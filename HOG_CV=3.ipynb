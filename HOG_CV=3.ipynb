{
 "cells": [
  {
   "cell_type": "code",
   "execution_count": 23,
   "metadata": {
    "collapsed": true
   },
   "outputs": [],
   "source": [
    "import glob\n",
    "\n",
    "files = glob.glob('./KIMIA_Path_960/*')"
   ]
  },
  {
   "cell_type": "code",
   "execution_count": 24,
   "metadata": {
    "collapsed": true
   },
   "outputs": [],
   "source": [
    "import os.path as path\n",
    "targets = [path.basename(file).split('.')[0][0] for file in files]"
   ]
  },
  {
   "cell_type": "code",
   "execution_count": 25,
   "metadata": {
    "collapsed": true
   },
   "outputs": [],
   "source": [
    "lbls = str.upper('abcdefghijklmnopqrst')\n",
    "lbl_map = {}\n",
    "for i, l in enumerate(lbls):\n",
    "    lbl_map[l] = i\n",
    "\n",
    "targets = [lbl_map[target] for target in targets]"
   ]
  },
  {
   "cell_type": "code",
   "execution_count": 26,
   "metadata": {
    "collapsed": false
   },
   "outputs": [
    {
     "data": {
      "text/plain": [
       "(960, 168, 308, 3)"
      ]
     },
     "execution_count": 26,
     "metadata": {},
     "output_type": "execute_result"
    }
   ],
   "source": [
    "\n",
    "\n",
    "import cv2\n",
    "import numpy as np\n",
    "\n",
    "X = np.array([cv2.imread(file) for file in files])\n",
    "Y = targets\n",
    "X.shape"
   ]
  },
  {
   "cell_type": "code",
   "execution_count": 29,
   "metadata": {
    "collapsed": false
   },
   "outputs": [
    {
     "data": {
      "text/plain": [
       "960"
      ]
     },
     "execution_count": 29,
     "metadata": {},
     "output_type": "execute_result"
    }
   ],
   "source": [
    "X_fg = np.mean(X_float, axis=3)\n",
    "len(X_fg)"
   ]
  },
  {
   "cell_type": "code",
   "execution_count": 30,
   "metadata": {
    "collapsed": false
   },
   "outputs": [
    {
     "data": {
      "text/plain": [
       "(960, 168, 308)"
      ]
     },
     "execution_count": 30,
     "metadata": {},
     "output_type": "execute_result"
    }
   ],
   "source": [
    "X_fg.shape"
   ]
  },
  {
   "cell_type": "code",
   "execution_count": 31,
   "metadata": {
    "collapsed": true
   },
   "outputs": [],
   "source": [
    "X = X_fg\n",
    "y = Y"
   ]
  },
  {
   "cell_type": "code",
   "execution_count": 32,
   "metadata": {
    "collapsed": false
   },
   "outputs": [
    {
     "name": "stdout",
     "output_type": "stream",
     "text": [
      "(960, 55404)\n"
     ]
    }
   ],
   "source": [
    "from skimage.feature import (match_descriptors, corner_peaks, corner_harris,plot_matches, hog)\n",
    "\n",
    "F_tr =[]\n",
    "\n",
    "for x in range(0, 960):\n",
    "    img = X[x,:]\n",
    "    \n",
    "    \n",
    "    \n",
    "    HOG = hog(img, orientations=9, pixels_per_cell=(8, 8), cells_per_block=(3, 3), block_norm='L2', feature_vector=True)\n",
    "    \n",
    "    F_tr.append(HOG)    \n",
    " \n",
    "    \n",
    "print((np.shape(F_tr)))"
   ]
  },
  {
   "cell_type": "code",
   "execution_count": 40,
   "metadata": {
    "collapsed": true
   },
   "outputs": [],
   "source": [
    "F_tr = np.array(F_tr)\n",
    "y = np.array(targets)"
   ]
  },
  {
   "cell_type": "code",
   "execution_count": 38,
   "metadata": {
    "collapsed": false
   },
   "outputs": [
    {
     "name": "stdout",
     "output_type": "stream",
     "text": [
      "KFold(n_splits=3, random_state=1000, shuffle=True)\n",
      "<generator object _BaseKFold.split at 0x000001E11FCCFF68>\n",
      "0.0578125 0.034375\n",
      "0.109375 0.08125\n",
      "0.059375 0.03125\n",
      "0.0755208333333\n",
      "0.0489583333333\n"
     ]
    }
   ],
   "source": [
    "from sklearn.model_selection import KFold\n",
    "from sklearn.model_selection import cross_val_score\n",
    "from sklearn import svm\n",
    "\n",
    "clf2 = svm.SVC(gamma=0.0000015,kernel = 'rbf', tol=0.00001, C=1)\n",
    "\n",
    "Str = float()\n",
    "Ste = float()\n",
    "\n",
    "kf = KFold(n_splits=3, shuffle=True, random_state=1000)\n",
    "kf.get_n_splits(F_tr)\n",
    "\n",
    "print(kf) \n",
    "print(kf.split(F_tr))\n",
    "\n",
    "for train_index, test_index in kf.split(F_tr):\n",
    "    X_train, X_test = F_tr[train_index], F_tr[test_index]\n",
    "    y_train, y_test = y[train_index], y[test_index]\n",
    "    clf2.fit(X_train, y_train)\n",
    "    \n",
    "    St1 = clf2.score(X_train, y_train)\n",
    "    St2 = clf2.score(X_test, y_test)\n",
    "    \n",
    "    print(St1, St2)\n",
    "    \n",
    "    Str = Str +St1\n",
    "    Ste = Ste + St2\n",
    "\n",
    "print(Str/3)\n",
    "print(Ste/3)"
   ]
  },
  {
   "cell_type": "code",
   "execution_count": 41,
   "metadata": {
    "collapsed": false
   },
   "outputs": [
    {
     "name": "stdout",
     "output_type": "stream",
     "text": [
      "KFold(n_splits=3, random_state=1000, shuffle=True)\n",
      "<generator object _BaseKFold.split at 0x000001E11FD89BF8>\n",
      "0.396875 0.096875\n",
      "0.40625 0.071875\n",
      "0.4109375 0.096875\n",
      "0.4046875\n",
      "0.0885416666667\n"
     ]
    }
   ],
   "source": [
    "from sklearn.model_selection import KFold\n",
    "from sklearn.model_selection import cross_val_score\n",
    "from sklearn import svm\n",
    "from sklearn.tree import DecisionTreeClassifier\n",
    "\n",
    "cdt = DecisionTreeClassifier(min_samples_split = 5, random_state=0, min_samples_leaf = 20)\n",
    "\n",
    "Str = float()\n",
    "Ste = float()\n",
    "\n",
    "kf = KFold(n_splits=3, shuffle=True, random_state=1000)\n",
    "kf.get_n_splits(F_tr)\n",
    "\n",
    "print(kf) \n",
    "print(kf.split(F_tr))\n",
    "\n",
    "for train_index, test_index in kf.split(F_tr):\n",
    "    X_train, X_test = F_tr[train_index], F_tr[test_index]\n",
    "    y_train, y_test = y[train_index], y[test_index]\n",
    "    cdt.fit(X_train, y_train)\n",
    "    \n",
    "    St1 = cdt.score(X_train, y_train)\n",
    "    St2 = cdt.score(X_test, y_test)\n",
    "    \n",
    "    print(St1, St2)\n",
    "    \n",
    "    Str = Str +St1\n",
    "    Ste = Ste + St2\n",
    "\n",
    "print(Str/3)\n",
    "print(Ste/3)"
   ]
  },
  {
   "cell_type": "code",
   "execution_count": 42,
   "metadata": {
    "collapsed": false
   },
   "outputs": [
    {
     "name": "stdout",
     "output_type": "stream",
     "text": [
      "KFold(n_splits=3, random_state=1000, shuffle=True)\n",
      "<generator object _BaseKFold.split at 0x000001E11FDB0518>\n",
      "1.0 0.321875\n",
      "1.0 0.315625\n",
      "1.0 0.34375\n",
      "1.0\n",
      "0.327083333333\n"
     ]
    }
   ],
   "source": [
    "from sklearn.model_selection import KFold\n",
    "from sklearn.model_selection import cross_val_score\n",
    "\n",
    "from sklearn.neural_network import MLPClassifier\n",
    "\n",
    "mlp = MLPClassifier(hidden_layer_sizes=(1200,1200,1200,), learning_rate_init=0.0005, max_iter=500,random_state=500)\n",
    "\n",
    "Str = float()\n",
    "Ste = float()\n",
    "\n",
    "kf = KFold(n_splits=3, shuffle=True, random_state=1000)\n",
    "kf.get_n_splits(F_tr)\n",
    "\n",
    "print(kf) \n",
    "print(kf.split(F_tr))\n",
    "\n",
    "for train_index, test_index in kf.split(F_tr):\n",
    "    X_train, X_test = F_tr[train_index], F_tr[test_index]\n",
    "    y_train, y_test = y[train_index], y[test_index]\n",
    "    mlp.fit(X_train, y_train)\n",
    "    \n",
    "    St1 = mlp.score(X_train, y_train)\n",
    "    St2 = mlp.score(X_test, y_test)\n",
    "    \n",
    "    print(St1, St2)\n",
    "    \n",
    "    Str = Str +St1\n",
    "    Ste = Ste + St2\n",
    "\n",
    "print(Str/3)\n",
    "print(Ste/3)"
   ]
  },
  {
   "cell_type": "code",
   "execution_count": 13,
   "metadata": {
    "collapsed": false
   },
   "outputs": [
    {
     "name": "stdout",
     "output_type": "stream",
     "text": [
      "0.359375 0.359375\n",
      "0.271875 0.63125\n",
      "0.3 0.93125\n",
      "0.310416666667\n"
     ]
    }
   ],
   "source": [
    "from sklearn.model_selection import cross_val_score\n",
    "\n",
    "from sklearn.neural_network import MLPClassifier\n",
    "\n",
    "mlp = MLPClassifier(hidden_layer_sizes=(1500,1500,1500,))\n",
    "SS = cross_val_score(mlp, F_tr, Y, cv = 3)\n",
    "\n",
    "II = float()\n",
    "\n",
    "for x in range(0,3): \n",
    "    I = SS[x]\n",
    "    II = I + II\n",
    "    print(I, II)\n",
    "    \n",
    "print(II/3)"
   ]
  },
  {
   "cell_type": "code",
   "execution_count": null,
   "metadata": {
    "collapsed": true
   },
   "outputs": [],
   "source": []
  }
 ],
 "metadata": {
  "kernelspec": {
   "display_name": "Python 3",
   "language": "python",
   "name": "python3"
  },
  "language_info": {
   "codemirror_mode": {
    "name": "ipython",
    "version": 3
   },
   "file_extension": ".py",
   "mimetype": "text/x-python",
   "name": "python",
   "nbconvert_exporter": "python",
   "pygments_lexer": "ipython3",
   "version": "3.6.0"
  }
 },
 "nbformat": 4,
 "nbformat_minor": 2
}
